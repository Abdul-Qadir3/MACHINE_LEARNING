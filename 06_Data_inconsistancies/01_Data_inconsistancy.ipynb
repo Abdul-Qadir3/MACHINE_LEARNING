{
 "cells": [
  {
   "cell_type": "markdown",
   "metadata": {},
   "source": [
    "## Data inconsistancies\n",
    "`Due to`\n",
    "1. The inconsistant formats\n",
    "     1. Like inconsistanties in `date`\n",
    "2. Inconsistant Naming conventions\n",
    "     1. Like inconsistanties in `USA, united state,US`\n",
    "3. Typographical Errors\n",
    "     1. Mistakes in data entry\n",
    "4. Duplication\n",
    "5. Contradictory data\n",
    "     1. like father age is less than son gets inconsistancies in the data"
   ]
  },
  {
   "cell_type": "code",
   "execution_count": 4,
   "metadata": {},
   "outputs": [],
   "source": [
    "import pandas as pd"
   ]
  },
  {
   "cell_type": "code",
   "execution_count": 11,
   "metadata": {},
   "outputs": [],
   "source": [
    "data = {\n",
    "    'date': ['2021/01/01', '01-02-2021', '01-2021-03', '2021-01-04', '2021-01-05'],\n",
    "    'country': ['USA', 'UK', 'Canada', 'USA', 'UK'],\n",
    "    'name': ['Alice', 'Bob', 'Charlie', 'Alice', 'Bob'],\n",
    "    'sale_20': [100, 200, None, 400, 500],\n",
    "    'sale_21': [110, 210, 310, 410, None]\n",
    "}\n",
    "\n",
    "#  convert and make pandas data frame\n",
    "df = pd.DataFrame(data)"
   ]
  },
  {
   "cell_type": "code",
   "execution_count": 12,
   "metadata": {},
   "outputs": [
    {
     "data": {
      "text/html": [
       "<div>\n",
       "<style scoped>\n",
       "    .dataframe tbody tr th:only-of-type {\n",
       "        vertical-align: middle;\n",
       "    }\n",
       "\n",
       "    .dataframe tbody tr th {\n",
       "        vertical-align: top;\n",
       "    }\n",
       "\n",
       "    .dataframe thead th {\n",
       "        text-align: right;\n",
       "    }\n",
       "</style>\n",
       "<table border=\"1\" class=\"dataframe\">\n",
       "  <thead>\n",
       "    <tr style=\"text-align: right;\">\n",
       "      <th></th>\n",
       "      <th>date</th>\n",
       "      <th>country</th>\n",
       "      <th>name</th>\n",
       "      <th>sale_20</th>\n",
       "      <th>sale_21</th>\n",
       "    </tr>\n",
       "  </thead>\n",
       "  <tbody>\n",
       "    <tr>\n",
       "      <th>0</th>\n",
       "      <td>2021/01/01</td>\n",
       "      <td>USA</td>\n",
       "      <td>Alice</td>\n",
       "      <td>100.0</td>\n",
       "      <td>110.0</td>\n",
       "    </tr>\n",
       "    <tr>\n",
       "      <th>1</th>\n",
       "      <td>01-02-2021</td>\n",
       "      <td>UK</td>\n",
       "      <td>Bob</td>\n",
       "      <td>200.0</td>\n",
       "      <td>210.0</td>\n",
       "    </tr>\n",
       "    <tr>\n",
       "      <th>2</th>\n",
       "      <td>01-2021-03</td>\n",
       "      <td>Canada</td>\n",
       "      <td>Charlie</td>\n",
       "      <td>NaN</td>\n",
       "      <td>310.0</td>\n",
       "    </tr>\n",
       "    <tr>\n",
       "      <th>3</th>\n",
       "      <td>2021-01-04</td>\n",
       "      <td>USA</td>\n",
       "      <td>Alice</td>\n",
       "      <td>400.0</td>\n",
       "      <td>410.0</td>\n",
       "    </tr>\n",
       "    <tr>\n",
       "      <th>4</th>\n",
       "      <td>2021-01-05</td>\n",
       "      <td>UK</td>\n",
       "      <td>Bob</td>\n",
       "      <td>500.0</td>\n",
       "      <td>NaN</td>\n",
       "    </tr>\n",
       "  </tbody>\n",
       "</table>\n",
       "</div>"
      ],
      "text/plain": [
       "         date country     name  sale_20  sale_21\n",
       "0  2021/01/01     USA    Alice    100.0    110.0\n",
       "1  01-02-2021      UK      Bob    200.0    210.0\n",
       "2  01-2021-03  Canada  Charlie      NaN    310.0\n",
       "3  2021-01-04     USA    Alice    400.0    410.0\n",
       "4  2021-01-05      UK      Bob    500.0      NaN"
      ]
     },
     "execution_count": 12,
     "metadata": {},
     "output_type": "execute_result"
    }
   ],
   "source": [
    "df.head()"
   ]
  },
  {
   "cell_type": "code",
   "execution_count": 15,
   "metadata": {},
   "outputs": [],
   "source": [
    "# standardizing date format\n",
    "df['date'] = pd.to_datetime(df['date'], errors='coerce')\n",
    "#The errors='coerce' parameter is used to handle errors. When errors='coerce', invalid parsing will be \n",
    "# set as NaT (Not a Time).\n",
    "df['date'] = df['date'].dt.strftime('%Y-%m-%d')"
   ]
  },
  {
   "cell_type": "code",
   "execution_count": 16,
   "metadata": {},
   "outputs": [
    {
     "data": {
      "text/html": [
       "<div>\n",
       "<style scoped>\n",
       "    .dataframe tbody tr th:only-of-type {\n",
       "        vertical-align: middle;\n",
       "    }\n",
       "\n",
       "    .dataframe tbody tr th {\n",
       "        vertical-align: top;\n",
       "    }\n",
       "\n",
       "    .dataframe thead th {\n",
       "        text-align: right;\n",
       "    }\n",
       "</style>\n",
       "<table border=\"1\" class=\"dataframe\">\n",
       "  <thead>\n",
       "    <tr style=\"text-align: right;\">\n",
       "      <th></th>\n",
       "      <th>date</th>\n",
       "      <th>country</th>\n",
       "      <th>name</th>\n",
       "      <th>sale_20</th>\n",
       "      <th>sale_21</th>\n",
       "    </tr>\n",
       "  </thead>\n",
       "  <tbody>\n",
       "    <tr>\n",
       "      <th>0</th>\n",
       "      <td>2021-01-01</td>\n",
       "      <td>USA</td>\n",
       "      <td>Alice</td>\n",
       "      <td>100.0</td>\n",
       "      <td>110.0</td>\n",
       "    </tr>\n",
       "    <tr>\n",
       "      <th>1</th>\n",
       "      <td>NaN</td>\n",
       "      <td>UK</td>\n",
       "      <td>Bob</td>\n",
       "      <td>200.0</td>\n",
       "      <td>210.0</td>\n",
       "    </tr>\n",
       "    <tr>\n",
       "      <th>2</th>\n",
       "      <td>NaN</td>\n",
       "      <td>Canada</td>\n",
       "      <td>Charlie</td>\n",
       "      <td>NaN</td>\n",
       "      <td>310.0</td>\n",
       "    </tr>\n",
       "    <tr>\n",
       "      <th>3</th>\n",
       "      <td>NaN</td>\n",
       "      <td>USA</td>\n",
       "      <td>Alice</td>\n",
       "      <td>400.0</td>\n",
       "      <td>410.0</td>\n",
       "    </tr>\n",
       "    <tr>\n",
       "      <th>4</th>\n",
       "      <td>NaN</td>\n",
       "      <td>UK</td>\n",
       "      <td>Bob</td>\n",
       "      <td>500.0</td>\n",
       "      <td>NaN</td>\n",
       "    </tr>\n",
       "  </tbody>\n",
       "</table>\n",
       "</div>"
      ],
      "text/plain": [
       "         date country     name  sale_20  sale_21\n",
       "0  2021-01-01     USA    Alice    100.0    110.0\n",
       "1         NaN      UK      Bob    200.0    210.0\n",
       "2         NaN  Canada  Charlie      NaN    310.0\n",
       "3         NaN     USA    Alice    400.0    410.0\n",
       "4         NaN      UK      Bob    500.0      NaN"
      ]
     },
     "execution_count": 16,
     "metadata": {},
     "output_type": "execute_result"
    }
   ],
   "source": [
    "df.head()"
   ]
  },
  {
   "cell_type": "code",
   "execution_count": null,
   "metadata": {},
   "outputs": [],
   "source": []
  }
 ],
 "metadata": {
  "kernelspec": {
   "display_name": "python_twelve",
   "language": "python",
   "name": "python3"
  },
  "language_info": {
   "codemirror_mode": {
    "name": "ipython",
    "version": 3
   },
   "file_extension": ".py",
   "mimetype": "text/x-python",
   "name": "python",
   "nbconvert_exporter": "python",
   "pygments_lexer": "ipython3",
   "version": "3.12.2"
  }
 },
 "nbformat": 4,
 "nbformat_minor": 2
}
